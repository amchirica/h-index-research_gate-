{
  "nbformat": 4,
  "nbformat_minor": 0,
  "metadata": {
    "colab": {
      "provenance": [],
      "authorship_tag": "ABX9TyM8qZOlyYunRxZwHi3N3iza",
      "include_colab_link": true
    },
    "kernelspec": {
      "name": "python3",
      "display_name": "Python 3"
    },
    "language_info": {
      "name": "python"
    }
  },
  "cells": [
    {
      "cell_type": "markdown",
      "metadata": {
        "id": "view-in-github",
        "colab_type": "text"
      },
      "source": [
        "<a href=\"https://colab.research.google.com/github/amchirica/h-index-research_gate-/blob/main/H_Index_RG(calculaton_mode).ipynb\" target=\"_parent\"><img src=\"https://colab.research.google.com/assets/colab-badge.svg\" alt=\"Open In Colab\"/></a>"
      ]
    },
    {
      "cell_type": "code",
      "execution_count": null,
      "metadata": {
        "colab": {
          "base_uri": "https://localhost:8080/"
        },
        "id": "zWtK0I_D1NH3",
        "outputId": "36ac901a-30a4-4cf5-8d82-b2a0dd0b20dc"
      },
      "outputs": [
        {
          "output_type": "stream",
          "name": "stdout",
          "text": [
            "Indicele Hirsch calculat este: 25\n"
          ]
        }
      ],
      "source": [
        "# Exemplu de calcul al indicelui Hirsch\n",
        "\n",
        "# Numărul total de articole\n",
        "numar_articole = 100\n",
        "\n",
        "# Numărul total de citări\n",
        "numar_citari = 50\n",
        "\n",
        "# Sortăm numărul de citări în ordine descrescătoare\n",
        "citari_sortate = sorted(range(numar_citari, 0, -1), reverse=True)\n",
        "\n",
        "# Calculăm indicele Hirsch\n",
        "indice_hirsch = 0\n",
        "for i, citare in enumerate(citari_sortate):\n",
        "    if citare >= i + 1:\n",
        "        indice_hirsch = i + 1\n",
        "    else:\n",
        "        break\n",
        "\n",
        "print(f\"Indicele Hirsch calculat este: {indice_hirsch}\")\n"
      ]
    },
    {
      "cell_type": "code",
      "source": [
        "# Calcul indice Hirsch pe un esantion de date aleator\n",
        "\n",
        "import random\n",
        "\n",
        "# Numărul total de articole\n",
        "numar_articole = 100\n",
        "\n",
        "# Inițializăm o listă cu numărul de citări pentru fiecare articol (aleatoriu între 0 și 50)\n",
        "citari_articole = [random.randint(0, 50) for _ in range(numar_articole)]\n",
        "\n",
        "# Sortăm numărul de citări în ordine descrescătoare\n",
        "citari_sortate = sorted(citari_articole, reverse=True)\n",
        "\n",
        "# Calculăm indicele Hirsch\n",
        "indice_hirsch = 0\n",
        "for i, citare in enumerate(citari_sortate):\n",
        "    if citare >= i + 1:\n",
        "        indice_hirsch = i + 1\n",
        "    else:\n",
        "        break\n",
        "\n",
        "# Afișăm detaliile și indicele Hirsch calculat\n",
        "print(f\"Numărul de citări pentru fiecare articol: {citari_articole}\")\n",
        "print(f\"Indicele Hirsch calculat este: {indice_hirsch}\")\n"
      ],
      "metadata": {
        "colab": {
          "base_uri": "https://localhost:8080/"
        },
        "id": "2wG1CFJDw-pz",
        "outputId": "c91083fb-bbc2-4bf8-cd55-7ce4beaba014"
      },
      "execution_count": null,
      "outputs": [
        {
          "output_type": "stream",
          "name": "stdout",
          "text": [
            "Numărul de citări pentru fiecare articol: [12, 46, 14, 28, 9, 2, 38, 14, 34, 46, 20, 44, 6, 17, 40, 10, 42, 46, 5, 2, 16, 30, 24, 43, 41, 41, 42, 44, 3, 9, 11, 11, 5, 38, 0, 8, 19, 48, 23, 48, 39, 18, 50, 19, 23, 26, 16, 44, 6, 8, 48, 10, 40, 1, 3, 8, 20, 6, 13, 32, 20, 3, 45, 8, 39, 31, 22, 5, 12, 8, 41, 15, 47, 42, 35, 34, 8, 14, 41, 44, 37, 23, 11, 34, 11, 45, 6, 22, 3, 33, 21, 21, 17, 15, 25, 16, 49, 39, 19, 14]\n",
            "Indicele Hirsch calculat este: 34\n"
          ]
        }
      ]
    },
    {
      "cell_type": "code",
      "source": [
        "# Calcul indice Hirsch pentru un cercetator cu date practice\n",
        "\n",
        "import random\n",
        "\n",
        "# Numărul total de articole\n",
        "numar_articole = 35\n",
        "\n",
        "# Inițializăm o listă cu numărul de citări pentru fiecare articol (aleatoriu între 0 și 10)\n",
        "citari_articole = [random.randint(0, 10) for _ in range(numar_articole)]\n",
        "\n",
        "# Sortăm numărul de citări în ordine descrescătoare\n",
        "citari_sortate = sorted(citari_articole, reverse=True)\n",
        "\n",
        "# Calculăm indicele Hirsch\n",
        "indice_hirsch = 0\n",
        "for i, citare in enumerate(citari_sortate):\n",
        "    if citare >= i + 1:\n",
        "        indice_hirsch = i + 1\n",
        "    else:\n",
        "        break\n",
        "\n",
        "# Afișăm detaliile și indicele Hirsch calculat\n",
        "print(f\"Numărul de citări pentru fiecare articol: {citari_articole}\")\n",
        "print(f\"Indicele Hirsch calculat este: {indice_hirsch}\")\n"
      ],
      "metadata": {
        "colab": {
          "base_uri": "https://localhost:8080/"
        },
        "id": "loWsW2T1xZxt",
        "outputId": "9cac1447-05f6-4aa3-e2af-e7bea813bad5"
      },
      "execution_count": null,
      "outputs": [
        {
          "output_type": "stream",
          "name": "stdout",
          "text": [
            "Numărul de citări pentru fiecare articol: [10, 10, 3, 2, 2, 10, 2, 0, 3, 4, 3, 0, 8, 9, 9, 0, 2, 5, 9, 1, 10, 5, 4, 10, 6, 1, 0, 8, 1, 7, 0, 6, 0, 5, 7]\n",
            "Indicele Hirsch calculat este: 8\n"
          ]
        }
      ]
    },
    {
      "cell_type": "code",
      "source": [
        "# Calcul indice Hirsch pentru un cercetator cu date teoretice\n",
        "\n",
        "\n",
        "# Valorile date\n",
        "research_interest_score = 181.9\n",
        "total_citari = 161\n",
        "\n",
        "# Calculul indicele Hirsch aproximativ\n",
        "indice_hirsch_aprox = int((research_interest_score / 3.17) ** (1/3))\n",
        "\n",
        "# Afișăm rezultatul\n",
        "print(f\"Research Interest Score: {research_interest_score}\")\n",
        "print(f\"Total citări: {total_citari}\")\n",
        "print(f\"Indicele Hirsch estimat: {indice_hirsch_aprox}\")\n"
      ],
      "metadata": {
        "colab": {
          "base_uri": "https://localhost:8080/"
        },
        "id": "SasM-oPeyWt1",
        "outputId": "468e5074-d1f2-4b7d-e31b-e062e025fe28"
      },
      "execution_count": null,
      "outputs": [
        {
          "output_type": "stream",
          "name": "stdout",
          "text": [
            "Research Interest Score: 181.9\n",
            "Total citări: 161\n",
            "Indicele Hirsch estimat: 3\n"
          ]
        }
      ]
    },
    {
      "cell_type": "code",
      "source": [
        "# Media de calcul indice Hirsch pentru un cercetator folosind date practice & teoretice\n",
        "\n",
        "import random\n",
        "\n",
        "# Numărul total de articole\n",
        "numar_articole = 35\n",
        "\n",
        "# Inițializăm o listă cu numărul de citări pentru fiecare articol (aleatoriu între 0 și 10)\n",
        "citari_articole = [random.randint(0, 10) for _ in range(numar_articole)]\n",
        "\n",
        "# Sortăm numărul de citări în ordine descrescătoare\n",
        "citari_sortate = sorted(citari_articole, reverse=True)\n",
        "\n",
        "# Calculăm indicele Hirsch\n",
        "indice_hirsch_practic = 0\n",
        "for i, citare in enumerate(citari_sortate):\n",
        "    if citare >= i + 1:\n",
        "        indice_hirsch_practic = i + 1\n",
        "    else:\n",
        "        break\n",
        "\n",
        "# Afișăm detaliile și indicele Hirsch calculat pentru datele practice\n",
        "print(f\"Numărul de citări pentru fiecare articol: {citari_articole}\")\n",
        "print(f\"Indicele Hirsch calculat pentru datele practice este: {indice_hirsch_practic}\")\n",
        "\n",
        "\n",
        "# Calcul indice Hirsch pentru un cercetator cu date teoretice\n",
        "\n",
        "# Valorile date\n",
        "research_interest_score = 181.9\n",
        "total_citari = 161\n",
        "\n",
        "# Calculul indicele Hirsch aproximativ\n",
        "indice_hirsch_aprox = int((research_interest_score / 3.17) ** (1/3))\n",
        "\n",
        "# Afișăm rezultatul\n",
        "print(f\"Research Interest Score: {research_interest_score}\")\n",
        "print(f\"Total citări: {total_citari}\")\n",
        "print(f\"Indicele Hirsch estimat pentru datele teoretice este: {indice_hirsch_aprox}\")\n",
        "\n",
        "# Calculăm media indicelui Hirsch între datele practice și teoretice\n",
        "media_indice_hirsch = (indice_hirsch_practic + indice_hirsch_aprox) / 2\n",
        "\n",
        "# Afișăm media calculată\n",
        "print(f\"Media indicelui Hirsch între datele practice și teoretice este: {media_indice_hirsch}\")\n"
      ],
      "metadata": {
        "colab": {
          "base_uri": "https://localhost:8080/"
        },
        "id": "yEz76yaS0O0Y",
        "outputId": "2225a0c5-8de8-42a0-e07e-4ab469cb9c5c"
      },
      "execution_count": null,
      "outputs": [
        {
          "output_type": "stream",
          "name": "stdout",
          "text": [
            "Numărul de citări pentru fiecare articol: [1, 6, 2, 4, 2, 10, 1, 3, 5, 0, 3, 7, 10, 1, 4, 9, 4, 4, 10, 6, 1, 4, 8, 8, 5, 3, 2, 5, 9, 7, 0, 10, 4, 7, 1]\n",
            "Indicele Hirsch calculat pentru datele practice este: 8\n",
            "Research Interest Score: 181.9\n",
            "Total citări: 161\n",
            "Indicele Hirsch estimat pentru datele teoretice este: 3\n",
            "Media indicelui Hirsch între datele practice și teoretice este: 5.5\n"
          ]
        }
      ]
    }
  ]
}